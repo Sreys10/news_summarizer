{
 "cells": [
  {
   "cell_type": "markdown",
   "id": "66d4a723-aa51-4db6-a388-a4372a1704d9",
   "metadata": {},
   "source": [
    "# Importing Libraries"
   ]
  },
  {
   "cell_type": "code",
   "execution_count": 1,
   "id": "a57ef022-157e-4f22-9031-3a0a36d1672b",
   "metadata": {},
   "outputs": [],
   "source": [
    "import numpy as np\n",
    "import pandas as pd\n",
    "import matplotlib.pyplot as plt\n",
    "import seaborn as sns\n",
    "import json\n",
    "import re"
   ]
  },
  {
   "cell_type": "markdown",
   "id": "a50d3f21-c6e4-414c-b0b4-cbabaf921fbb",
   "metadata": {},
   "source": [
    "# Reading the dataset"
   ]
  },
  {
   "cell_type": "code",
   "execution_count": 2,
   "id": "9b1d76a4-7750-4adf-adf2-e33be5148401",
   "metadata": {},
   "outputs": [],
   "source": [
    "dt=pd.read_csv(\"train1.csv\")"
   ]
  },
  {
   "cell_type": "code",
   "execution_count": 3,
   "id": "fb34f344-dd8f-453b-be06-c5a2eb81b0cd",
   "metadata": {},
   "outputs": [
    {
     "data": {
      "text/html": [
       "<div>\n",
       "<style scoped>\n",
       "    .dataframe tbody tr th:only-of-type {\n",
       "        vertical-align: middle;\n",
       "    }\n",
       "\n",
       "    .dataframe tbody tr th {\n",
       "        vertical-align: top;\n",
       "    }\n",
       "\n",
       "    .dataframe thead th {\n",
       "        text-align: right;\n",
       "    }\n",
       "</style>\n",
       "<table border=\"1\" class=\"dataframe\">\n",
       "  <thead>\n",
       "    <tr style=\"text-align: right;\">\n",
       "      <th></th>\n",
       "      <th>url</th>\n",
       "      <th>archive</th>\n",
       "      <th>title</th>\n",
       "      <th>date</th>\n",
       "      <th>text</th>\n",
       "      <th>summary</th>\n",
       "      <th>compression</th>\n",
       "      <th>coverage</th>\n",
       "      <th>density</th>\n",
       "      <th>compression_bin</th>\n",
       "      <th>coverage_bin</th>\n",
       "      <th>density_bin</th>\n",
       "    </tr>\n",
       "  </thead>\n",
       "  <tbody>\n",
       "    <tr>\n",
       "      <th>0</th>\n",
       "      <td>http://www.nytimes.com/2006/06/04/sports/socce...</td>\n",
       "      <td>http://web.archive.org/web/20060618204254id_/h...</td>\n",
       "      <td>Surge in Racist Mood Raises Concerns on Eve of...</td>\n",
       "      <td>20060618204254</td>\n",
       "      <td>HAMBURG, Germany, June 3  As he left the socc...</td>\n",
       "      <td>A surge in discriminatory behavior toward blac...</td>\n",
       "      <td>137.470588</td>\n",
       "      <td>1.000000</td>\n",
       "      <td>7.823529</td>\n",
       "      <td>high</td>\n",
       "      <td>high</td>\n",
       "      <td>mixed</td>\n",
       "    </tr>\n",
       "    <tr>\n",
       "      <th>1</th>\n",
       "      <td>http://www.nytimes.com/2005/12/24/politics/24s...</td>\n",
       "      <td>http://web.archive.org/web/20060620043011id_/h...</td>\n",
       "      <td>Spy Agency Mined Vast Data Trove, Officials Re...</td>\n",
       "      <td>20060620043011</td>\n",
       "      <td>WASHINGTON, Dec. 23 - The National Security Ag...</td>\n",
       "      <td>The volume of information harvested, without \\...</td>\n",
       "      <td>33.636364</td>\n",
       "      <td>0.909091</td>\n",
       "      <td>4.727273</td>\n",
       "      <td>medium</td>\n",
       "      <td>medium</td>\n",
       "      <td>mixed</td>\n",
       "    </tr>\n",
       "    <tr>\n",
       "      <th>2</th>\n",
       "      <td>http://www.nytimes.com/2006/04/23/business/you...</td>\n",
       "      <td>http://web.archive.org/web/20060909062911id_/h...</td>\n",
       "      <td>Investors vs. Pfizer: Guess Who Has the Guns?</td>\n",
       "      <td>20060909062911</td>\n",
       "      <td>IF outsized executive pay has indeed become a ...</td>\n",
       "      <td>The battle between Pfizer Inc.'s investors and...</td>\n",
       "      <td>33.880000</td>\n",
       "      <td>1.000000</td>\n",
       "      <td>11.720000</td>\n",
       "      <td>medium</td>\n",
       "      <td>high</td>\n",
       "      <td>extractive</td>\n",
       "    </tr>\n",
       "    <tr>\n",
       "      <th>3</th>\n",
       "      <td>http://www.nydailynews.com/archives/gossip/199...</td>\n",
       "      <td>http://web.archive.org/web/20080313232743id_/h...</td>\n",
       "      <td>REX FLEXED PECS FOR SKIN PICS</td>\n",
       "      <td>20080313232743</td>\n",
       "      <td>BY A.J. BENZA &amp; MICHAEL LEWITTES\\n\\nIf Simon R...</td>\n",
       "      <td>If Simon Rex looks a little familiar, it may n...</td>\n",
       "      <td>11.894118</td>\n",
       "      <td>0.988235</td>\n",
       "      <td>38.988235</td>\n",
       "      <td>low</td>\n",
       "      <td>high</td>\n",
       "      <td>extractive</td>\n",
       "    </tr>\n",
       "    <tr>\n",
       "      <th>4</th>\n",
       "      <td>http://www.nydailynews.com/archives/entertainm...</td>\n",
       "      <td>http://web.archive.org/web/20080314003027id_/h...</td>\n",
       "      <td>POPEYE-WORTHY PIE. PHYLLO DOUGH WRAPS SPINACH ...</td>\n",
       "      <td>20080314003027</td>\n",
       "      <td>Spinach has terrorized generations of veggie-p...</td>\n",
       "      <td>POPEYE-WORTHY PIE. PHYLLO DOUGH WRAPS SPINACH ...</td>\n",
       "      <td>3.932584</td>\n",
       "      <td>0.921348</td>\n",
       "      <td>36.629213</td>\n",
       "      <td>low</td>\n",
       "      <td>medium</td>\n",
       "      <td>extractive</td>\n",
       "    </tr>\n",
       "  </tbody>\n",
       "</table>\n",
       "</div>"
      ],
      "text/plain": [
       "                                                 url  \\\n",
       "0  http://www.nytimes.com/2006/06/04/sports/socce...   \n",
       "1  http://www.nytimes.com/2005/12/24/politics/24s...   \n",
       "2  http://www.nytimes.com/2006/04/23/business/you...   \n",
       "3  http://www.nydailynews.com/archives/gossip/199...   \n",
       "4  http://www.nydailynews.com/archives/entertainm...   \n",
       "\n",
       "                                             archive  \\\n",
       "0  http://web.archive.org/web/20060618204254id_/h...   \n",
       "1  http://web.archive.org/web/20060620043011id_/h...   \n",
       "2  http://web.archive.org/web/20060909062911id_/h...   \n",
       "3  http://web.archive.org/web/20080313232743id_/h...   \n",
       "4  http://web.archive.org/web/20080314003027id_/h...   \n",
       "\n",
       "                                               title            date  \\\n",
       "0  Surge in Racist Mood Raises Concerns on Eve of...  20060618204254   \n",
       "1  Spy Agency Mined Vast Data Trove, Officials Re...  20060620043011   \n",
       "2      Investors vs. Pfizer: Guess Who Has the Guns?  20060909062911   \n",
       "3                      REX FLEXED PECS FOR SKIN PICS  20080313232743   \n",
       "4  POPEYE-WORTHY PIE. PHYLLO DOUGH WRAPS SPINACH ...  20080314003027   \n",
       "\n",
       "                                                text  \\\n",
       "0  HAMBURG, Germany, June 3  As he left the socc...   \n",
       "1  WASHINGTON, Dec. 23 - The National Security Ag...   \n",
       "2  IF outsized executive pay has indeed become a ...   \n",
       "3  BY A.J. BENZA & MICHAEL LEWITTES\\n\\nIf Simon R...   \n",
       "4  Spinach has terrorized generations of veggie-p...   \n",
       "\n",
       "                                             summary  compression  coverage  \\\n",
       "0  A surge in discriminatory behavior toward blac...   137.470588  1.000000   \n",
       "1  The volume of information harvested, without \\...    33.636364  0.909091   \n",
       "2  The battle between Pfizer Inc.'s investors and...    33.880000  1.000000   \n",
       "3  If Simon Rex looks a little familiar, it may n...    11.894118  0.988235   \n",
       "4  POPEYE-WORTHY PIE. PHYLLO DOUGH WRAPS SPINACH ...     3.932584  0.921348   \n",
       "\n",
       "     density compression_bin coverage_bin density_bin  \n",
       "0   7.823529            high         high       mixed  \n",
       "1   4.727273          medium       medium       mixed  \n",
       "2  11.720000          medium         high  extractive  \n",
       "3  38.988235             low         high  extractive  \n",
       "4  36.629213             low       medium  extractive  "
      ]
     },
     "execution_count": 3,
     "metadata": {},
     "output_type": "execute_result"
    }
   ],
   "source": [
    "dt.head()"
   ]
  },
  {
   "cell_type": "markdown",
   "id": "728c452e-b4da-46d9-9763-3279cfdef6a9",
   "metadata": {},
   "source": [
    "# Data Preprocessing\n",
    "Though its not that important"
   ]
  },
  {
   "cell_type": "code",
   "execution_count": 4,
   "id": "ba881660-a529-46e5-86b3-48ea8309c2d6",
   "metadata": {},
   "outputs": [
    {
     "data": {
      "text/html": [
       "<div>\n",
       "<style scoped>\n",
       "    .dataframe tbody tr th:only-of-type {\n",
       "        vertical-align: middle;\n",
       "    }\n",
       "\n",
       "    .dataframe tbody tr th {\n",
       "        vertical-align: top;\n",
       "    }\n",
       "\n",
       "    .dataframe thead th {\n",
       "        text-align: right;\n",
       "    }\n",
       "</style>\n",
       "<table border=\"1\" class=\"dataframe\">\n",
       "  <thead>\n",
       "    <tr style=\"text-align: right;\">\n",
       "      <th></th>\n",
       "      <th>text</th>\n",
       "      <th>summary</th>\n",
       "    </tr>\n",
       "  </thead>\n",
       "  <tbody>\n",
       "    <tr>\n",
       "      <th>0</th>\n",
       "      <td>HAMBURG, Germany, June 3  As he left the socc...</td>\n",
       "      <td>A surge in discriminatory behavior toward blac...</td>\n",
       "    </tr>\n",
       "    <tr>\n",
       "      <th>1</th>\n",
       "      <td>WASHINGTON, Dec. 23 - The National Security Ag...</td>\n",
       "      <td>The volume of information harvested, without \\...</td>\n",
       "    </tr>\n",
       "    <tr>\n",
       "      <th>2</th>\n",
       "      <td>IF outsized executive pay has indeed become a ...</td>\n",
       "      <td>The battle between Pfizer Inc.'s investors and...</td>\n",
       "    </tr>\n",
       "    <tr>\n",
       "      <th>3</th>\n",
       "      <td>BY A.J. BENZA &amp; MICHAEL LEWITTES\\n\\nIf Simon R...</td>\n",
       "      <td>If Simon Rex looks a little familiar, it may n...</td>\n",
       "    </tr>\n",
       "    <tr>\n",
       "      <th>4</th>\n",
       "      <td>Spinach has terrorized generations of veggie-p...</td>\n",
       "      <td>POPEYE-WORTHY PIE. PHYLLO DOUGH WRAPS SPINACH ...</td>\n",
       "    </tr>\n",
       "  </tbody>\n",
       "</table>\n",
       "</div>"
      ],
      "text/plain": [
       "                                                text  \\\n",
       "0  HAMBURG, Germany, June 3  As he left the socc...   \n",
       "1  WASHINGTON, Dec. 23 - The National Security Ag...   \n",
       "2  IF outsized executive pay has indeed become a ...   \n",
       "3  BY A.J. BENZA & MICHAEL LEWITTES\\n\\nIf Simon R...   \n",
       "4  Spinach has terrorized generations of veggie-p...   \n",
       "\n",
       "                                             summary  \n",
       "0  A surge in discriminatory behavior toward blac...  \n",
       "1  The volume of information harvested, without \\...  \n",
       "2  The battle between Pfizer Inc.'s investors and...  \n",
       "3  If Simon Rex looks a little familiar, it may n...  \n",
       "4  POPEYE-WORTHY PIE. PHYLLO DOUGH WRAPS SPINACH ...  "
      ]
     },
     "execution_count": 4,
     "metadata": {},
     "output_type": "execute_result"
    }
   ],
   "source": [
    "#dropping the cols\n",
    "columns_to_drop = ['archive', 'url', 'date', 'compression_bin', 'coverage_bin', 'density_bin', 'density', 'coverage', 'compression','title']\n",
    "dt = dt.drop(columns=columns_to_drop)\n",
    "dt.head()\n"
   ]
  },
  {
   "cell_type": "code",
   "execution_count": 5,
   "id": "dd09384c-2191-4f3a-82e0-34f09b269d8d",
   "metadata": {},
   "outputs": [
    {
     "data": {
      "text/html": [
       "<div>\n",
       "<style scoped>\n",
       "    .dataframe tbody tr th:only-of-type {\n",
       "        vertical-align: middle;\n",
       "    }\n",
       "\n",
       "    .dataframe tbody tr th {\n",
       "        vertical-align: top;\n",
       "    }\n",
       "\n",
       "    .dataframe thead th {\n",
       "        text-align: right;\n",
       "    }\n",
       "</style>\n",
       "<table border=\"1\" class=\"dataframe\">\n",
       "  <thead>\n",
       "    <tr style=\"text-align: right;\">\n",
       "      <th></th>\n",
       "      <th>text</th>\n",
       "      <th>summary</th>\n",
       "      <th>cleaned_text</th>\n",
       "    </tr>\n",
       "  </thead>\n",
       "  <tbody>\n",
       "    <tr>\n",
       "      <th>0</th>\n",
       "      <td>HAMBURG, Germany, June 3  As he left the socc...</td>\n",
       "      <td>A surge in discriminatory behavior toward blac...</td>\n",
       "      <td>hamburg  germany  june 3   as he left the socc...</td>\n",
       "    </tr>\n",
       "    <tr>\n",
       "      <th>1</th>\n",
       "      <td>WASHINGTON, Dec. 23 - The National Security Ag...</td>\n",
       "      <td>The volume of information harvested, without \\...</td>\n",
       "      <td>washington  dec  23   the national security ag...</td>\n",
       "    </tr>\n",
       "    <tr>\n",
       "      <th>2</th>\n",
       "      <td>IF outsized executive pay has indeed become a ...</td>\n",
       "      <td>The battle between Pfizer Inc.'s investors and...</td>\n",
       "      <td>if outsized executive pay has indeed become a ...</td>\n",
       "    </tr>\n",
       "    <tr>\n",
       "      <th>3</th>\n",
       "      <td>BY A.J. BENZA &amp; MICHAEL LEWITTES\\n\\nIf Simon R...</td>\n",
       "      <td>If Simon Rex looks a little familiar, it may n...</td>\n",
       "      <td>by a j  benza   michael lewittes  if simon rex...</td>\n",
       "    </tr>\n",
       "    <tr>\n",
       "      <th>4</th>\n",
       "      <td>Spinach has terrorized generations of veggie-p...</td>\n",
       "      <td>POPEYE-WORTHY PIE. PHYLLO DOUGH WRAPS SPINACH ...</td>\n",
       "      <td>spinach has terrorized generations of veggie p...</td>\n",
       "    </tr>\n",
       "  </tbody>\n",
       "</table>\n",
       "</div>"
      ],
      "text/plain": [
       "                                                text  \\\n",
       "0  HAMBURG, Germany, June 3  As he left the socc...   \n",
       "1  WASHINGTON, Dec. 23 - The National Security Ag...   \n",
       "2  IF outsized executive pay has indeed become a ...   \n",
       "3  BY A.J. BENZA & MICHAEL LEWITTES\\n\\nIf Simon R...   \n",
       "4  Spinach has terrorized generations of veggie-p...   \n",
       "\n",
       "                                             summary  \\\n",
       "0  A surge in discriminatory behavior toward blac...   \n",
       "1  The volume of information harvested, without \\...   \n",
       "2  The battle between Pfizer Inc.'s investors and...   \n",
       "3  If Simon Rex looks a little familiar, it may n...   \n",
       "4  POPEYE-WORTHY PIE. PHYLLO DOUGH WRAPS SPINACH ...   \n",
       "\n",
       "                                        cleaned_text  \n",
       "0  hamburg  germany  june 3   as he left the socc...  \n",
       "1  washington  dec  23   the national security ag...  \n",
       "2  if outsized executive pay has indeed become a ...  \n",
       "3  by a j  benza   michael lewittes  if simon rex...  \n",
       "4  spinach has terrorized generations of veggie p...  "
      ]
     },
     "execution_count": 5,
     "metadata": {},
     "output_type": "execute_result"
    }
   ],
   "source": [
    "import re\n",
    "\n",
    "def preprocessing(text):\n",
    "    # Convert to string if the input is not already a string\n",
    "    if not isinstance(text, str):\n",
    "        return \"\"\n",
    "    text = re.sub(r'<.*?>', '', text)  # Remove HTML tags\n",
    "    text = re.sub(r'\\W', ' ', text)  # Remove non-alphanumeric characters\n",
    "    text = text.lower()  # Convert to lowercase\n",
    "    return text\n",
    "\n",
    "# Apply the preprocessing function\n",
    "dt[\"cleaned_text\"] = dt[\"text\"].apply(preprocessing)\n",
    "\n",
    "# Display the first few rows of the DataFrame\n",
    "dt.head()\n"
   ]
  },
  {
   "cell_type": "code",
   "execution_count": 6,
   "id": "e1000d6a-899e-4c10-8874-88d2f09fe921",
   "metadata": {},
   "outputs": [
    {
     "data": {
      "text/plain": [
       "<bound method NDFrame.head of                                                      text  \\\n",
       "0       HAMBURG, Germany, June 3  As he left the socc...   \n",
       "1       WASHINGTON, Dec. 23 - The National Security Ag...   \n",
       "2       IF outsized executive pay has indeed become a ...   \n",
       "3       BY A.J. BENZA & MICHAEL LEWITTES\\n\\nIf Simon R...   \n",
       "4       Spinach has terrorized generations of veggie-p...   \n",
       "...                                                   ...   \n",
       "248755  The children were killed around 3 p.m. when th...   \n",
       "248756  Two dozen supporters stood behind the Republic...   \n",
       "248757  Detroit's Park Avenue Hotel, built in 1924, wa...   \n",
       "248758  FBI Director James Comey told reporters Friday...   \n",
       "248759  A crowd of hundreds erupted in cheers, and san...   \n",
       "\n",
       "                                                  summary  \\\n",
       "0       A surge in discriminatory behavior toward blac...   \n",
       "1       The volume of information harvested, without \\...   \n",
       "2       The battle between Pfizer Inc.'s investors and...   \n",
       "3       If Simon Rex looks a little familiar, it may n...   \n",
       "4       POPEYE-WORTHY PIE. PHYLLO DOUGH WRAPS SPINACH ...   \n",
       "...                                                   ...   \n",
       "248755  Explosives stuffed inside a pillow went off ou...   \n",
       "248756  Jamiel Shaw Sr., the father of a high school s...   \n",
       "248757                              \"Zombieland\" blew up.   \n",
       "248758  Dylann Roof should not have been able to buy a...   \n",
       "248759  The Confederate battle flag has flown somewher...   \n",
       "\n",
       "                                             cleaned_text  \n",
       "0       hamburg  germany  june 3   as he left the socc...  \n",
       "1       washington  dec  23   the national security ag...  \n",
       "2       if outsized executive pay has indeed become a ...  \n",
       "3       by a j  benza   michael lewittes  if simon rex...  \n",
       "4       spinach has terrorized generations of veggie p...  \n",
       "...                                                   ...  \n",
       "248755  the children were killed around 3 p m  when th...  \n",
       "248756  two dozen supporters stood behind the republic...  \n",
       "248757  detroit s park avenue hotel  built in 1924  wa...  \n",
       "248758  fbi director james comey told reporters friday...  \n",
       "248759  a crowd of hundreds erupted in cheers  and san...  \n",
       "\n",
       "[248760 rows x 3 columns]>"
      ]
     },
     "execution_count": 6,
     "metadata": {},
     "output_type": "execute_result"
    }
   ],
   "source": [
    "dt.head"
   ]
  },
  {
   "cell_type": "code",
   "execution_count": 7,
   "id": "f9c31427-b25c-4f5f-8b6e-a68faa99129f",
   "metadata": {
    "scrolled": true
   },
   "outputs": [
    {
     "data": {
      "text/plain": [
       "'HAMBURG, Germany, June 3 \\x97 As he left the soccer field after a club match in the eastern German city of Halle on March 25, the Nigerian forward Adebowale Ogungbure was spit upon, jeered with racial remarks and mocked with monkey noises. In rebuke, he placed two fingers under his nose to simulate a Hitler mustache and thrust his arm in a Nazi salute.\\n\\nMarc Zoro, right, an Ivory Coast native, was a target of racial slurs from the home fans in Messina, Italy. Adriano, a star with Inter Milan, tried to persuade him to stay on the field.\\n\\nFrom now until its conclusion on July 9, Jeff Z. Klein and other staff members of The Times and International Herald Tribune will track the world\\'s most popular sporting event.\\n\\nYour guide to the games in Germany: teams, rosters, schedules, statistics, venues and more.\\n\\nIn April, the American defender Oguchi Onyewu, playing for his professional club team in Belgium, dismissively gestured toward fans who were making simian chants at him. Then, as he went to throw the ball inbounds, Onyewu said a fan of the opposing team reached over a barrier and punched him in the face.\\n\\nInternational soccer has been plagued for years by violence among fans, including racial incidents. But FIFA, soccer\\'s Zurich-based world governing body, said there has been a recent surge in discriminatory behavior toward blacks by fans and other players, an escalation that has dovetailed with the signing of more players from Africa and Latin America by elite European clubs.\\n\\nThis \"deplorable trend,\" as FIFA has called it, now threatens to embarrass the sport on its grandest stage, the World Cup, which opens June 9 for a monthlong run in 12 cities around Germany. More than 30 billion cumulative television viewers are expected to watch part of the competition and Joseph S. Blatter, FIFA\\'s president, has vowed to crack down on racist behavior during the tournament.\\n\\nUnderlining FIFA\\'s concerns, the issue has been included on the agenda at its biannual Congress, scheduled to be held this week in Munich. A campaign against bigotry includes \"Say No to Racism\" stadium banners, television commercials, and team captains making pregame speeches during the quarterfinals of the 32-team tournament.\\n\\nPlayers, coaches and officials have been threatened with sanctions. But FIFA has said it would not be practical to use the harshest penalties available to punish misbehaving fans \\x97 halting matches, holding games in empty stadiums and deducting points that teams receive for victories and ties.\\n\\nPlayers and antiracism experts said they expected offensive behavior during the tournament, including monkey-like chanting; derisive singing; the hanging of banners that reflect neofascist and racist beliefs; and perhaps the tossing of bananas or banana peels, all familiar occurrences during matches in Spain, Italy, eastern Germany and eastern Europe.\\n\\n\"For us it\\'s quite clear this is a reflection of underlying tensions that exist in European societies,\" said Piara Powar, director of the London-based antiracist soccer organization Kick It Out. He said of Eastern Europe: \"Poverty, unemployment, is a problem. Indigenous people are looking for easy answers to blame. Often newcomers bear the brunt of the blame.\"\\n\\nYet experts and players also said they believed the racist behavior would be more constrained at the World Cup than it was during play in various domestic leagues around Europe, because of increased security, the international makeup of the crowds, higher ticket prices and a sense that spectators would be generally well behaved on soccer\\'s grandest stage.\\n\\n\"We have to differentiate inside and outside the stadium,\" said Kurt Wachter, project coordinator for the Vienna-based Football Against Racism in Europe, a network of organizations that seeks to fight bigotry and xenophobia in 35 countries.\\n\\n\"Racism is a feature of many football leagues inside and outside Europe,\" said Wachter, who expects most problems to occur outside stadiums where crowds are less controlled. \"We\\'re sure we will see some things we\\'re used to seeing. It won\\'t stop because of the World Cup.\"\\n\\nParticularly worrisome are the possibilities of attacks by extremist groups on spectators and visitors in train stations, bars, restaurants and open areas near the stadiums, Wachter and other experts said. To promote tolerance, he said his organization would organize street soccer matches outside World Cup stadiums.\\n\\nRecent attacks in the eastern Germany city of Potsdam on an Ethiopian-born engineer and in eastern Berlin on a state lawmaker of Turkish descent, along with a government report showing an increase in right-wing violence, have ignited fears that even sporadic hate crimes and other intolerant behavior could mar the World Cup, whose embracing motto is A Time to Make Friends.\\n\\nFar-right extremism is isolated on the fringe of German society, and the German government has intended to confront its Nazi past while preaching openness and tolerance. Germany has one of the world\\'s lowest rates of violent crime. Still, an immigrant group called the Africa Council said it would publish a \"No Go\" guide for nonwhites during the World Cup, particularly for some areas of eastern Berlin and for surrounding towns of the state of Brandenburg.\\n\\nIn mid-May, a former government spokesman, Uwe-Karsten Heye, caused a furor when he tried to assist visitors by advising that anyone \"with a different skin color\" avoid visiting small and midsize towns in Brandenburg and elsewhere in eastern Germany, or they \"may not leave with their lives.\"\\n\\nThese remarks received blunt criticism from high-ranking German officials. Wolfgang Schäuble, the minister of the interior, said there were no areas in which World Cup visitors should feel threatened, calling Germany \"one of the safest places in the world.\"\\n\\nAngela Merkel, Germany\\'s chancellor, has warned that \"anybody who threatens, attacks or, worse, kills anybody because of the color of his skin or because he comes from another country will face the full force of the law.\"\\n\\nThe Bundesliga in Germany is one of the world\\'s top professional soccer leagues, and has not experienced widespread racism. Incidents involving racial abuse of black players are more prevalent in semiprofessional and amateur leagues in eastern Germany. One of the cities playing host to the World Cup, Leipzig, is in the former East Germany. Another, Berlin, was partly in East Germany.\\n\\nAfter making a Nazi salute, which is illegal in Germany, Ogungbure of Nigeria was investigated by the authorities. But a charge of unconstitutional behavior against him was soon dropped because his gesture had been meant to renounce extremist activity.\\n\\n\"I regret what I did,\" Ogungbure said in a telephone interview from Leipzig. \"I should have walked away. I\\'m a professional, but I\\'m a human, too. They don\\'t spit on dogs. Why should they spit on me? I felt like a nobody.\"\\n\\nGerald Asamoah, a forward on Germany\\'s World Cup team and a native of Ghana, has been recounting an incident in the 1990\\'s when he was pelted with bananas before a club match in Cottbus. \"I\\'ll never forget that,\" he said in a television interview. \"It\\'s like we\\'re not people.\" He has expressed anger and sadness over a banner distributed by a right-wing group that admonished, \"No Gerald, You Are Not Germany.\"\\n\\nCory Gibbs, an American defender who formerly played professionally in Germany, said there were restaurants and nightclubs in eastern Germany \\x97 and even around Hamburg in the west \\x97 where he was told \"You\\'re not welcome\" because he was black.\\n\\n\"I think racism is everywhere,\" said Gibbs, who will miss the World Cup because of a knee injury. \"But I feel in Germany racism is a lot more direct.\"\\n\\nRacist behavior at soccer matches is primarily displayed by men and is fueled by several factors, according to experts: alcohol; the perceived \"us versus them\" threat of multiculturalism in societies that were once more ethnically homogenous; the difficult economic transition of eastern European nations since the fall of the Berlin Wall; and crude attempts to unnerve opposing players during bitter, consuming rivalries.\\n\\nOther observers say that the soccer stadium in Europe has become a communal soapbox, one of the few remaining public spaces where spectators can be outrageous and where political correctness does not exist and is even discouraged.\\n\\n\"Nowhere else other than football do people meet someplace and have a stage for shouting things as an anonymous mass,\" said Gerd Dembowski, director of a Berlin-based antiracist organization called Floodlight. \"You can shout things you would never say in your normal life, let out your frustrations.\"\\n\\nNot all the misbehavior can be traced to fans or to Europe. Players and coaches have also been transgressors.\\n\\nLuis Aragonés, Spain\\'s World Cup coach, was fined in 2004 after making racial remarks about the French star Thierry Henry. In March, in the Brazilian league, the defender Antonio Carlos was suspended for 120 days, and 4 additional matches, after an incident in which he shouted \"monkey\" at an opposing player who was black. But it was an incident in Spain on Feb. 25 that galvanized antiracist sentiment and prodded FIFA into taking a tougher stand against bigoted behavior. That match, in Zaragoza, was temporarily halted in the 77th minute by the referee, who threatened to cancel the remaining 13 minutes after Samuel Eto\\'o, the star forward for Barcelona, was subjected to a chorus of racial taunts. Eto\\'o threatened to leave the field. His coach and teammates eventually persuaded him to continue, and last month Barcelona won the European Champions Cup.\\n\\nEto\\'o has become one of the sport\\'s most outspoken players on the subject of racism. \"I\\'ll continue to play,\" Eto\\'o, whose national team, Cameroon, did not qualify for the World Cup, said this week through his agent. \"I\\'m not going to give up and hide and put my head down. I\\'ll score goals against the teams whose fans are making rude noises.\"\\n\\nUnder pressure to curb what it acknowledged was an increase in racist incidents, FIFA in late March announced a stricter set of penalties that would apply for club and national team matches. The sanctions would include suspensions of five matches for players and officials who make discriminatory gestures, fines of $16,600 to $25,000 for each offense and two-year stadium bans for offending spectators. It also said teams, which receive 3 points in the standings for a victory, would have 3 points deducted on a first offense by misbehaving players, officials or fans.\\n\\nBlatter, the FIFA president, told reporters that the 3-point deduction for abhorrent fan behavior would apply during the World Cup, then backed away from his comments in April. Blatter declined to comment for this article. And it remains unclear exactly what penalties will be levied against World Cup teams for offensive behavior by fans, coaches and players.\\n\\nNicolas Maingot, a FIFA spokesman, said World Cup sanctions would be made public later. But in an e-mail response to questions, he said: \"Only racist abuses in the field of play will be punished. For fans, it will be impossible, due to the multinationality of the audience. In other words, it would be impossible to identify from which side would potential racist abusers come.\"\\n\\nCritics counter that spectators are supposed to have their names on their tickets, so identifying offending fans should be relatively easy.\\n\\nOnyewu, the American defender who was punched by an opposing fan in Belgium, said the man was identified through an anonymous tip and was barred from attending matches for two years. He said he did not retaliate because he believed that racist behavior reflected acts of a minority of fans.\\n\\n\"I\\'m anticipating a more professional environment in Germany because it\\'s the World Cup,\" Onyewu said. Even so, he said, although antiracist efforts could restrict public behavior, \"that\\'s only helping the exterior.\"\\n\\nHe added, \"The interior mind thinking, you can\\'t really change that.\"'"
      ]
     },
     "execution_count": 7,
     "metadata": {},
     "output_type": "execute_result"
    }
   ],
   "source": [
    "dt.iloc[0].text"
   ]
  },
  {
   "cell_type": "code",
   "execution_count": 8,
   "id": "30af5f2e-977c-4990-b348-100a663548b6",
   "metadata": {},
   "outputs": [
    {
     "data": {
      "text/plain": [
       "'A surge in discriminatory behavior toward blacks by fans and other players threatens to embarrass soccer.'"
      ]
     },
     "execution_count": 8,
     "metadata": {},
     "output_type": "execute_result"
    }
   ],
   "source": [
    "dt.iloc[0].summary"
   ]
  },
  {
   "cell_type": "markdown",
   "id": "6318a244-7f26-490b-b566-af4d85bd5fc9",
   "metadata": {},
   "source": [
    "# Extractive Analysis\n",
    "Extractive summarization selects important sentences directly from the text without modifying them.\n",
    "For this we have have various methods such as textrank, sumy Latent Semantic Analysis (LSA) etc. From this we would use Sumy Library."
   ]
  },
  {
   "cell_type": "code",
   "execution_count": 9,
   "id": "979d01e9-83ba-44da-8674-852f44b78263",
   "metadata": {},
   "outputs": [
    {
     "data": {
      "text/plain": [
       "'Recent attacks in the eastern Germany city of Potsdam on an Ethiopian-born engineer and in eastern Berlin on a state lawmaker of Turkish descent, along with a government report showing an increase in right-wing violence, have ignited fears that even sporadic hate crimes and other intolerant behavior could mar the World Cup, whose embracing motto is A Time to Make Friends.'"
      ]
     },
     "execution_count": 9,
     "metadata": {},
     "output_type": "execute_result"
    }
   ],
   "source": [
    "import pandas as pd\n",
    "from sumy.parsers.plaintext import PlaintextParser\n",
    "from sumy.nlp.tokenizers import Tokenizer\n",
    "from sumy.summarizers.text_rank import TextRankSummarizer\n",
    "\n",
    "data = {\n",
    "    'data': [\n",
    "    'HAMBURG, Germany, June 3 \\x97 As he left the soccer field after a club match in the eastern German city of Halle on March 25, the Nigerian forward Adebowale Ogungbure was spit upon, jeered with racial remarks and mocked with monkey noises. In rebuke, he placed two fingers under his nose to simulate a Hitler mustache and thrust his arm in a Nazi salute.\\n\\nMarc Zoro, right, an Ivory Coast native, was a target of racial slurs from the home fans in Messina, Italy. Adriano, a star with Inter Milan, tried to persuade him to stay on the field.\\n\\nFrom now until its conclusion on July 9, Jeff Z. Klein and other staff members of The Times and International Herald Tribune will track the world\\'s most popular sporting event.\\n\\nYour guide to the games in Germany: teams, rosters, schedules, statistics, venues and more.\\n\\nIn April, the American defender Oguchi Onyewu, playing for his professional club team in Belgium, dismissively gestured toward fans who were making simian chants at him. Then, as he went to throw the ball inbounds, Onyewu said a fan of the opposing team reached over a barrier and punched him in the face.\\n\\nInternational soccer has been plagued for years by violence among fans, including racial incidents. But FIFA, soccer\\'s Zurich-based world governing body, said there has been a recent surge in discriminatory behavior toward blacks by fans and other players, an escalation that has dovetailed with the signing of more players from Africa and Latin America by elite European clubs.\\n\\nThis \"deplorable trend,\" as FIFA has called it, now threatens to embarrass the sport on its grandest stage, the World Cup, which opens June 9 for a monthlong run in 12 cities around Germany. More than 30 billion cumulative television viewers are expected to watch part of the competition and Joseph S. Blatter, FIFA\\'s president, has vowed to crack down on racist behavior during the tournament.\\n\\nUnderlining FIFA\\'s concerns, the issue has been included on the agenda at its biannual Congress, scheduled to be held this week in Munich. A campaign against bigotry includes \"Say No to Racism\" stadium banners, television commercials, and team captains making pregame speeches during the quarterfinals of the 32-team tournament.\\n\\nPlayers, coaches and officials have been threatened with sanctions. But FIFA has said it would not be practical to use the harshest penalties available to punish misbehaving fans \\x97 halting matches, holding games in empty stadiums and deducting points that teams receive for victories and ties.\\n\\nPlayers and antiracism experts said they expected offensive behavior during the tournament, including monkey-like chanting; derisive singing; the hanging of banners that reflect neofascist and racist beliefs; and perhaps the tossing of bananas or banana peels, all familiar occurrences during matches in Spain, Italy, eastern Germany and eastern Europe.\\n\\n\"For us it\\'s quite clear this is a reflection of underlying tensions that exist in European societies,\" said Piara Powar, director of the London-based antiracist soccer organization Kick It Out. He said of Eastern Europe: \"Poverty, unemployment, is a problem. Indigenous people are looking for easy answers to blame. Often newcomers bear the brunt of the blame.\"\\n\\nYet experts and players also said they believed the racist behavior would be more constrained at the World Cup than it was during play in various domestic leagues around Europe, because of increased security, the international makeup of the crowds, higher ticket prices and a sense that spectators would be generally well behaved on soccer\\'s grandest stage.\\n\\n\"We have to differentiate inside and outside the stadium,\" said Kurt Wachter, project coordinator for the Vienna-based Football Against Racism in Europe, a network of organizations that seeks to fight bigotry and xenophobia in 35 countries.\\n\\n\"Racism is a feature of many football leagues inside and outside Europe,\" said Wachter, who expects most problems to occur outside stadiums where crowds are less controlled. \"We\\'re sure we will see some things we\\'re used to seeing. It won\\'t stop because of the World Cup.\"\\n\\nParticularly worrisome are the possibilities of attacks by extremist groups on spectators and visitors in train stations, bars, restaurants and open areas near the stadiums, Wachter and other experts said. To promote tolerance, he said his organization would organize street soccer matches outside World Cup stadiums.\\n\\nRecent attacks in the eastern Germany city of Potsdam on an Ethiopian-born engineer and in eastern Berlin on a state lawmaker of Turkish descent, along with a government report showing an increase in right-wing violence, have ignited fears that even sporadic hate crimes and other intolerant behavior could mar the World Cup, whose embracing motto is A Time to Make Friends.\\n\\nFar-right extremism is isolated on the fringe of German society, and the German government has intended to confront its Nazi past while preaching openness and tolerance. Germany has one of the world\\'s lowest rates of violent crime. Still, an immigrant group called the Africa Council said it would publish a \"No Go\" guide for nonwhites during the World Cup, particularly for some areas of eastern Berlin and for surrounding towns of the state of Brandenburg.\\n\\nIn mid-May, a former government spokesman, Uwe-Karsten Heye, caused a furor when he tried to assist visitors by advising that anyone \"with a different skin color\" avoid visiting small and midsize towns in Brandenburg and elsewhere in eastern Germany, or they \"may not leave with their lives.\"\\n\\nThese remarks received blunt criticism from high-ranking German officials. Wolfgang Schäuble, the minister of the interior, said there were no areas in which World Cup visitors should feel threatened, calling Germany \"one of the safest places in the world.\"\\n\\nAngela Merkel, Germany\\'s chancellor, has warned that \"anybody who threatens, attacks or, worse, kills anybody because of the color of his skin or because he comes from another country will face the full force of the law.\"\\n\\nThe Bundesliga in Germany is one of the world\\'s top professional soccer leagues, and has not experienced widespread racism. Incidents involving racial abuse of black players are more prevalent in semiprofessional and amateur leagues in eastern Germany. One of the cities playing host to the World Cup, Leipzig, is in the former East Germany. Another, Berlin, was partly in East Germany.\\n\\nAfter making a Nazi salute, which is illegal in Germany, Ogungbure of Nigeria was investigated by the authorities. But a charge of unconstitutional behavior against him was soon dropped because his gesture had been meant to renounce extremist activity.\\n\\n\"I regret what I did,\" Ogungbure said in a telephone interview from Leipzig. \"I should have walked away. I\\'m a professional, but I\\'m a human, too. They don\\'t spit on dogs. Why should they spit on me? I felt like a nobody.\"\\n\\nGerald Asamoah, a forward on Germany\\'s World Cup team and a native of Ghana, has been recounting an incident in the 1990\\'s when he was pelted with bananas before a club match in Cottbus. \"I\\'ll never forget that,\" he said in a television interview. \"It\\'s like we\\'re not people.\" He has expressed anger and sadness over a banner distributed by a right-wing group that admonished, \"No Gerald, You Are Not Germany.\"\\n\\nCory Gibbs, an American defender who formerly played professionally in Germany, said there were restaurants and nightclubs in eastern Germany \\x97 and even around Hamburg in the west \\x97 where he was told \"You\\'re not welcome\" because he was black.\\n\\n\"I think racism is everywhere,\" said Gibbs, who will miss the World Cup because of a knee injury. \"But I feel in Germany racism is a lot more direct.\"\\n\\nRacist behavior at soccer matches is primarily displayed by men and is fueled by several factors, according to experts: alcohol; the perceived \"us versus them\" threat of multiculturalism in societies that were once more ethnically homogenous; the difficult economic transition of eastern European nations since the fall of the Berlin Wall; and crude attempts to unnerve opposing players during bitter, consuming rivalries.\\n\\nOther observers say that the soccer stadium in Europe has become a communal soapbox, one of the few remaining public spaces where spectators can be outrageous and where political correctness does not exist and is even discouraged.\\n\\n\"Nowhere else other than football do people meet someplace and have a stage for shouting things as an anonymous mass,\" said Gerd Dembowski, director of a Berlin-based antiracist organization called Floodlight. \"You can shout things you would never say in your normal life, let out your frustrations.\"\\n\\nNot all the misbehavior can be traced to fans or to Europe. Players and coaches have also been transgressors.\\n\\nLuis Aragonés, Spain\\'s World Cup coach, was fined in 2004 after making racial remarks about the French star Thierry Henry. In March, in the Brazilian league, the defender Antonio Carlos was suspended for 120 days, and 4 additional matches, after an incident in which he shouted \"monkey\" at an opposing player who was black. But it was an incident in Spain on Feb. 25 that galvanized antiracist sentiment and prodded FIFA into taking a tougher stand against bigoted behavior. That match, in Zaragoza, was temporarily halted in the 77th minute by the referee, who threatened to cancel the remaining 13 minutes after Samuel Eto\\'o, the star forward for Barcelona, was subjected to a chorus of racial taunts. Eto\\'o threatened to leave the field. His coach and teammates eventually persuaded him to continue, and last month Barcelona won the European Champions Cup.\\n\\nEto\\'o has become one of the sport\\'s most outspoken players on the subject of racism. \"I\\'ll continue to play,\" Eto\\'o, whose national team, Cameroon, did not qualify for the World Cup, said this week through his agent. \"I\\'m not going to give up and hide and put my head down. I\\'ll score goals against the teams whose fans are making rude noises.\"\\n\\nUnder pressure to curb what it acknowledged was an increase in racist incidents, FIFA in late March announced a stricter set of penalties that would apply for club and national team matches. The sanctions would include suspensions of five matches for players and officials who make discriminatory gestures, fines of $16,600 to $25,000 for each offense and two-year stadium bans for offending spectators. It also said teams, which receive 3 points in the standings for a victory, would have 3 points deducted on a first offense by misbehaving players, officials or fans.\\n\\nBlatter, the FIFA president, told reporters that the 3-point deduction for abhorrent fan behavior would apply during the World Cup, then backed away from his comments in April. Blatter declined to comment for this article. And it remains unclear exactly what penalties will be levied against World Cup teams for offensive behavior by fans, coaches and players.\\n\\nNicolas Maingot, a FIFA spokesman, said World Cup sanctions would be made public later. But in an e-mail response to questions, he said: \"Only racist abuses in the field of play will be punished. For fans, it will be impossible, due to the multinationality of the audience. In other words, it would be impossible to identify from which side would potential racist abusers come.\"\\n\\nCritics counter that spectators are supposed to have their names on their tickets, so identifying offending fans should be relatively easy.\\n\\nOnyewu, the American defender who was punched by an opposing fan in Belgium, said the man was identified through an anonymous tip and was barred from attending matches for two years. He said he did not retaliate because he believed that racist behavior reflected acts of a minority of fans.\\n\\n\"I\\'m anticipating a more professional environment in Germany because it\\'s the World Cup,\" Onyewu said. Even so, he said, although antiracist efforts could restrict public behavior, \"that\\'s only helping the exterior.\"\\n\\nHe added, \"The interior mind thinking, you can\\'t really change that.\"'\n",
    "        \n",
    "    ]\n",
    "}\n",
    "new_dt = pd.DataFrame(data)\n",
    "def apply_text_rank_sumy(text, num_sentences=1):  # Specify how many sentences you want in the summary\n",
    "    parser = PlaintextParser.from_string(text, Tokenizer(\"english\"))\n",
    "    summarizer = TextRankSummarizer()\n",
    "    summary = summarizer(parser.document, num_sentences)\n",
    "    return ' '.join(str(sentence) for sentence in summary)\n",
    "\n",
    "# Apply TextRank summarization to the 'cleaned_text' column and create a new column 'new_summary'\n",
    "new_dt['new_summary'] = new_dt['data'].apply(apply_text_rank_sumy)\n",
    "\n",
    "# Display the result\n",
    "\n",
    "new_dt.iloc[0].new_summary\n"
   ]
  },
  {
   "cell_type": "code",
   "execution_count": null,
   "id": "8fc0a4d9-2b1e-48aa-8f83-be9b4e157ed7",
   "metadata": {},
   "outputs": [],
   "source": []
  },
  {
   "cell_type": "markdown",
   "id": "d4c549e1-53a7-4a76-bbcc-40b54e911c5c",
   "metadata": {},
   "source": [
    "# Abstractive Summary\n",
    "Abstractive summarization generates new sentences that convey the core ideas of the document in a more concise way.For this we have methoad such as Transformers(BART), T5(Text-to-Text), Pegasus etc. Here we will use Pegasus."
   ]
  },
  {
   "cell_type": "code",
   "execution_count": 10,
   "id": "3890fdcc-6e7e-4458-8914-c5cb54048e33",
   "metadata": {},
   "outputs": [
    {
     "name": "stderr",
     "output_type": "stream",
     "text": [
      "Some weights of PegasusForConditionalGeneration were not initialized from the model checkpoint at google/pegasus-xsum and are newly initialized: ['model.decoder.embed_positions.weight', 'model.encoder.embed_positions.weight']\n",
      "You should probably TRAIN this model on a down-stream task to be able to use it for predictions and inference.\n",
      "C:\\Users\\SHREYAS\\AppData\\Local\\Programs\\Python\\Python312\\Lib\\site-packages\\transformers\\tokenization_utils_base.py:1617: FutureWarning: `clean_up_tokenization_spaces` was not set. It will be set to `True` by default. This behavior will be deprecated in transformers v4.45, and will be then set to `False` by default. For more details check this issue: https://github.com/huggingface/transformers/issues/31884\n",
      "  warnings.warn(\n"
     ]
    },
    {
     "name": "stdout",
     "output_type": "stream",
     "text": [
      "Summary: German footballer Mesut Ozil says racism is \" everywhere\" after being racially abused on the pitch by Manchester United team-mate Patrice Evra, who was also racially abused by Arsenal's Mesut Ozil.\n",
      "Function saved to summarization_model.pkl\n"
     ]
    }
   ],
   "source": [
    "import pickle\n",
    "from transformers import PegasusForConditionalGeneration, PegasusTokenizer\n",
    "\n",
    "# Load Pegasus model and tokenizer\n",
    "model = PegasusForConditionalGeneration.from_pretrained('google/pegasus-xsum')\n",
    "tokenizer = PegasusTokenizer.from_pretrained('google/pegasus-xsum')\n",
    "\n",
    "def summarize_text(text):\n",
    "    \"\"\"\n",
    "    Function to generate a summary of the input text using Pegasus model.\n",
    "    \n",
    "    Args:\n",
    "    text (str): Input text to summarize.\n",
    "    \n",
    "    Returns:\n",
    "    str: Generated summary of the input text.\n",
    "    \"\"\"\n",
    "    # Tokenize the input text\n",
    "    inputs = tokenizer(text, max_length=1024, return_tensors='pt', truncation=True)\n",
    "\n",
    "    # Generate summary\n",
    "    try:\n",
    "        summary_ids = model.generate(\n",
    "            inputs['input_ids'],\n",
    "            max_length=150,\n",
    "            min_length=40,\n",
    "            length_penalty=2.0,\n",
    "            num_beams=4,\n",
    "            early_stopping=True\n",
    "        )\n",
    "\n",
    "        # Check if summary_ids is empty\n",
    "        if len(summary_ids) > 0:\n",
    "            summary = tokenizer.decode(summary_ids[0], skip_special_tokens=True)\n",
    "            return summary\n",
    "        else:\n",
    "            return \"No summary generated.\"\n",
    "\n",
    "    except Exception as e:\n",
    "        return f\"An error occurred: {e}\"\n",
    "\n",
    "# Example text\n",
    "text = '''HAMBURG, Germany, June 3 – As he left the soccer field after a club match...\n",
    "(Use your full text here)...\n",
    "I think racism is everywhere..'''\n",
    "\n",
    "# Summarize the text\n",
    "summary_result = summarize_text(text)\n",
    "print(\"Summary:\", summary_result)\n",
    "\n",
    "# Save the summarize_text function using pickle\n",
    "with open('summarization_model.pkl', 'wb') as f:\n",
    "    pickle.dump(summarize_text, f)\n",
    "\n",
    "print(\"Function saved to summarization_model.pkl\")\n"
   ]
  },
  {
   "cell_type": "code",
   "execution_count": null,
   "id": "e38570f4-18a9-4d91-9bef-4604b4df5f1c",
   "metadata": {},
   "outputs": [],
   "source": []
  }
 ],
 "metadata": {
  "kernelspec": {
   "display_name": "Python 3 (ipykernel)",
   "language": "python",
   "name": "python3"
  },
  "language_info": {
   "codemirror_mode": {
    "name": "ipython",
    "version": 3
   },
   "file_extension": ".py",
   "mimetype": "text/x-python",
   "name": "python",
   "nbconvert_exporter": "python",
   "pygments_lexer": "ipython3",
   "version": "3.12.3"
  }
 },
 "nbformat": 4,
 "nbformat_minor": 5
}
